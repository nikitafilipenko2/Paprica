{
 "cells": [
  {
   "cell_type": "code",
   "execution_count": null,
   "id": "41a038a9-18c7-45f5-8fd6-f44774fda3f0",
   "metadata": {},
   "outputs": [
    {
     "ename": "SyntaxError",
     "evalue": "invalid syntax (2081850138.py, line 2)",
     "output_type": "error",
     "traceback": [
      "  \u001b[36mCell\u001b[39m\u001b[36m \u001b[39m\u001b[32mIn[1]\u001b[39m\u001b[32m, line 2\u001b[39m\n\u001b[31m    \u001b[39m\u001b[31mhttps://www.youtube.com/watch?v=HNJduYogxh4\u001b[39m\n          ^\n\u001b[31mSyntaxError\u001b[39m\u001b[31m:\u001b[39m invalid syntax\n"
     ]
    }
   ],
   "source": [
    "# 02.07.25\n",
    "https://www.youtube.com/watch?v=HNJduYogxh4\n",
    "https://habr.com/ru/companies/skillfactory/articles/693338/\n",
    "https://habr.com/ru/articles/723786/\n",
    "https://habr.com/ru/articles/572760/\n",
    "https://education.yandex.ru/handbook/ml/article/nejroseti-dlya-oblakov-tochek\n",
    "https://mattiagatti.medium.com/point-clouds-to-3d-meshes-in-python-d90c8e53fe96\n",
    "https://arxiv.org/pdf/1801.09847\n",
    "https://arxiv.org/pdf/2201.07436\n",
    "https://www.youtube.com/watch?v=Ydo7RXDl7MM"
   ]
  },
  {
   "cell_type": "code",
   "execution_count": null,
   "id": "7afac8cf-3e76-4c26-92cf-eed1a0247dc3",
   "metadata": {},
   "outputs": [],
   "source": []
  }
 ],
 "metadata": {
  "kernelspec": {
   "display_name": "Python 3 (ipykernel)",
   "language": "python",
   "name": "python3"
  },
  "language_info": {
   "codemirror_mode": {
    "name": "ipython",
    "version": 3
   },
   "file_extension": ".py",
   "mimetype": "text/x-python",
   "name": "python",
   "nbconvert_exporter": "python",
   "pygments_lexer": "ipython3",
   "version": "3.13.2"
  }
 },
 "nbformat": 4,
 "nbformat_minor": 5
}
